{
 "cells": [
  {
   "cell_type": "markdown",
   "id": "e33b3eef-2ed4-45a1-906c-71a59c474fde",
   "metadata": {},
   "source": [
    "<h1 style=\"text-align:center; color:purple\">House price prediction using Linear regression</h1>"
   ]
  },
  {
   "cell_type": "markdown",
   "id": "21778acc-10f3-4680-add8-4ebea6cbfa1a",
   "metadata": {},
   "source": [
    "<h2 style=\"text-align:center; color:pink\">Presentation</h2>"
   ]
  },
  {
   "cell_type": "markdown",
   "id": "ecdebf40-ae5f-4e25-82dc-5ec329bd7639",
   "metadata": {},
   "source": [
    "<center>\n",
    "    djhedbezdde\n",
    "</center>"
   ]
  },
  {
   "cell_type": "markdown",
   "id": "e28bdd54-1b14-4d6a-9efe-1f1ef10dd134",
   "metadata": {},
   "source": [
    "<h2>1 - Installations and Imports</h2>"
   ]
  },
  {
   "cell_type": "code",
   "execution_count": 8,
   "id": "70c569c9-a919-4575-9a34-4639f5c9eeed",
   "metadata": {},
   "outputs": [],
   "source": [
    "%%capture\n",
    "!pip3 install numpy\n",
    "!pip3 install matplotlib\n",
    "!pip3 install pandas\n",
    "!pip3 install scipy\n",
    "from scipy.stats import norm"
   ]
  },
  {
   "cell_type": "code",
   "execution_count": 9,
   "id": "49dd9cd0-dd12-4230-acca-701c668f0cba",
   "metadata": {},
   "outputs": [],
   "source": [
    "import numpy as np\n",
    "import matplotlib.pyplot as plt\n",
    "import pandas as pd\n",
    "import copy\n",
    "import math\n",
    "%matplotlib inline"
   ]
  },
  {
   "cell_type": "markdown",
   "id": "b217e155-f1f7-49d9-9d51-5825244ae4f5",
   "metadata": {},
   "source": [
    "<h2>2 - Load dataset inside the file</h2>"
   ]
  },
  {
   "cell_type": "code",
   "execution_count": 11,
   "id": "d3d6d90e-ce5b-444e-8fcc-fd67dd9e5310",
   "metadata": {},
   "outputs": [],
   "source": [
    "df = pd.read_csv('dataset-houseprice2.csv')"
   ]
  },
  {
   "cell_type": "code",
   "execution_count": 12,
   "id": "96eccada-d149-486c-9e2d-5e054d9c4b9d",
   "metadata": {},
   "outputs": [
    {
     "data": {
      "text/html": [
       "<div>\n",
       "<style scoped>\n",
       "    .dataframe tbody tr th:only-of-type {\n",
       "        vertical-align: middle;\n",
       "    }\n",
       "\n",
       "    .dataframe tbody tr th {\n",
       "        vertical-align: top;\n",
       "    }\n",
       "\n",
       "    .dataframe thead th {\n",
       "        text-align: right;\n",
       "    }\n",
       "</style>\n",
       "<table border=\"1\" class=\"dataframe\">\n",
       "  <thead>\n",
       "    <tr style=\"text-align: right;\">\n",
       "      <th></th>\n",
       "      <th>price</th>\n",
       "      <th>bedrooms</th>\n",
       "      <th>bathrooms</th>\n",
       "      <th>sqft</th>\n",
       "      <th>floors</th>\n",
       "      <th>condition</th>\n",
       "      <th>grade</th>\n",
       "      <th>yr_built</th>\n",
       "    </tr>\n",
       "  </thead>\n",
       "  <tbody>\n",
       "    <tr>\n",
       "      <th>0</th>\n",
       "      <td>221900.0</td>\n",
       "      <td>3</td>\n",
       "      <td>1.00</td>\n",
       "      <td>1180</td>\n",
       "      <td>1.0</td>\n",
       "      <td>3</td>\n",
       "      <td>7</td>\n",
       "      <td>1955</td>\n",
       "    </tr>\n",
       "    <tr>\n",
       "      <th>1</th>\n",
       "      <td>538000.0</td>\n",
       "      <td>3</td>\n",
       "      <td>2.25</td>\n",
       "      <td>2570</td>\n",
       "      <td>2.0</td>\n",
       "      <td>3</td>\n",
       "      <td>7</td>\n",
       "      <td>1951</td>\n",
       "    </tr>\n",
       "    <tr>\n",
       "      <th>2</th>\n",
       "      <td>180000.0</td>\n",
       "      <td>2</td>\n",
       "      <td>1.00</td>\n",
       "      <td>770</td>\n",
       "      <td>1.0</td>\n",
       "      <td>3</td>\n",
       "      <td>6</td>\n",
       "      <td>1933</td>\n",
       "    </tr>\n",
       "    <tr>\n",
       "      <th>3</th>\n",
       "      <td>604000.0</td>\n",
       "      <td>4</td>\n",
       "      <td>3.00</td>\n",
       "      <td>1960</td>\n",
       "      <td>1.0</td>\n",
       "      <td>5</td>\n",
       "      <td>7</td>\n",
       "      <td>1965</td>\n",
       "    </tr>\n",
       "    <tr>\n",
       "      <th>4</th>\n",
       "      <td>510000.0</td>\n",
       "      <td>3</td>\n",
       "      <td>2.00</td>\n",
       "      <td>1680</td>\n",
       "      <td>1.0</td>\n",
       "      <td>3</td>\n",
       "      <td>8</td>\n",
       "      <td>1987</td>\n",
       "    </tr>\n",
       "  </tbody>\n",
       "</table>\n",
       "</div>"
      ],
      "text/plain": [
       "      price  bedrooms  bathrooms  sqft  floors  condition  grade  yr_built\n",
       "0  221900.0         3       1.00  1180     1.0          3      7      1955\n",
       "1  538000.0         3       2.25  2570     2.0          3      7      1951\n",
       "2  180000.0         2       1.00   770     1.0          3      6      1933\n",
       "3  604000.0         4       3.00  1960     1.0          5      7      1965\n",
       "4  510000.0         3       2.00  1680     1.0          3      8      1987"
      ]
     },
     "execution_count": 12,
     "metadata": {},
     "output_type": "execute_result"
    }
   ],
   "source": [
    "df.head()"
   ]
  },
  {
   "cell_type": "code",
   "execution_count": null,
   "id": "8b08f5c8-0e5e-4851-8ac7-627665330ade",
   "metadata": {},
   "outputs": [],
   "source": []
  }
 ],
 "metadata": {
  "kernelspec": {
   "display_name": "Python 3 (ipykernel)",
   "language": "python",
   "name": "python3"
  },
  "language_info": {
   "codemirror_mode": {
    "name": "ipython",
    "version": 3
   },
   "file_extension": ".py",
   "mimetype": "text/x-python",
   "name": "python",
   "nbconvert_exporter": "python",
   "pygments_lexer": "ipython3",
   "version": "3.11.5"
  }
 },
 "nbformat": 4,
 "nbformat_minor": 5
}
